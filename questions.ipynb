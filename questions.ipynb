{
 "cells": [
  {
   "cell_type": "code",
   "execution_count": 1,
   "id": "6cedb009",
   "metadata": {},
   "outputs": [],
   "source": [
    "#QUESTION:-Take a variable M for Marks.If the marks are comes between 90 to 100 then print the answer A Grade,\n",
    "          # If marks are comes between 70 to 90 then print the answer B Grade,\n",
    "          # If marks are comes between 50 to 70 then print the answer C Grade,\n",
    "          # If marks are comes between 30 to 50 then print the answer D Grade,\n",
    "          # If marks are less than 30 then print Fail"
   ]
  },
  {
   "cell_type": "code",
   "execution_count": 2,
   "id": "482d5acd",
   "metadata": {},
   "outputs": [
    {
     "name": "stdout",
     "output_type": "stream",
     "text": [
      "enter marks29\n",
      "Fail 29\n"
     ]
    }
   ],
   "source": [
    "M=int(input('enter marks'))\n",
    "if M>90 and M<100:\n",
    "    print('A Grade=',M)\n",
    "\n",
    "elif M>70 and M<90:\n",
    "    print('B Grade=',M)\n",
    "\n",
    "elif M>50 and M<70:\n",
    "    print('C Grade=',M)\n",
    "\n",
    "elif M>30 and M<50:\n",
    "    print('D Grade=',M)\n",
    "\n",
    "else:\n",
    "    print('Fail',M)"
   ]
  }
 ],
 "metadata": {
  "kernelspec": {
   "display_name": "Python 3 (ipykernel)",
   "language": "python",
   "name": "python3"
  },
  "language_info": {
   "codemirror_mode": {
    "name": "ipython",
    "version": 3
   },
   "file_extension": ".py",
   "mimetype": "text/x-python",
   "name": "python",
   "nbconvert_exporter": "python",
   "pygments_lexer": "ipython3",
   "version": "3.9.12"
  }
 },
 "nbformat": 4,
 "nbformat_minor": 5
}
